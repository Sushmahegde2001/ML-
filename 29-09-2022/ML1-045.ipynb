{
 "cells": [
  {
   "cell_type": "markdown",
   "metadata": {},
   "source": [
    "\n",
    "\n",
    "#  Q) ([115.3, 195.5, 120.5, 110.2, 90.4, 105.6, 110.9, 116.3, 122.3, 125.4]) Use the above array of values and compute the mean, median, mode,  Standard deviation, variance min-max normalization and standardization\n",
    "\n",
    "\n",
    "\n"
   ]
  },
  {
   "cell_type": "code",
   "execution_count": 66,
   "metadata": {},
   "outputs": [
    {
     "name": "stdout",
     "output_type": "stream",
     "text": [
      "mean  121.24000000000001\n"
     ]
    }
   ],
   "source": [
    "## mean\n",
    "\n",
    "data=[115.3, 195.5, 120.5, 110.2, 90.4, 105.6, 110.9, 116.3, 122.3, 125.4]\n",
    "sumi=0\n",
    "for i in data:\n",
    "    sumi=sumi+i;\n",
    "mean=sumi/len(data)\n",
    "print(\"mean \",mean)"
   ]
  },
  {
   "cell_type": "code",
   "execution_count": 67,
   "metadata": {},
   "outputs": [
    {
     "name": "stdout",
     "output_type": "stream",
     "text": [
      "[90.4, 105.6, 110.2, 110.9, 115.3, 116.3, 120.5, 122.3, 125.4, 195.5]\n"
     ]
    }
   ],
   "source": [
    "data.sort()\n",
    "print(data)"
   ]
  },
  {
   "cell_type": "code",
   "execution_count": 68,
   "metadata": {},
   "outputs": [
    {
     "name": "stdout",
     "output_type": "stream",
     "text": [
      "median  173.45\n"
     ]
    }
   ],
   "source": [
    "## median\n",
    "\n",
    "if len(data)%2==0:\n",
    "    median= data[(len(data)//2)-1]+data[len(data)//2]/2\n",
    "else:\n",
    "    median=data[len(data)//2]\n",
    "print(\"median \",median)"
   ]
  },
  {
   "cell_type": "code",
   "execution_count": 69,
   "metadata": {},
   "outputs": [
    {
     "name": "stdout",
     "output_type": "stream",
     "text": [
      "no mode\n"
     ]
    }
   ],
   "source": [
    "## mode\n",
    "\n",
    "maxi=0\n",
    "maxim=0\n",
    "mode=-1\n",
    "for i in range(len(data)-2):\n",
    "    while(data[i]==data[i+1]):\n",
    "        maxi=maxi+1\n",
    "        i=i+1;\n",
    "    if maxi>maxim:\n",
    "        maxim=maxi\n",
    "        if maxim!=0:\n",
    "            mode=data[i-1]\n",
    "if maxim==0:\n",
    "    print(\"no mode\")\n",
    "else:\n",
    "    print(\"mode \",mode)\n",
    "\n",
    "        \n",
    "    \n"
   ]
  },
  {
   "cell_type": "code",
   "execution_count": 70,
   "metadata": {},
   "outputs": [
    {
     "name": "stdout",
     "output_type": "stream",
     "text": [
      "variance  701.7724000000001\n",
      "standard deviation  26.490987146574966\n"
     ]
    }
   ],
   "source": [
    "## standard deviation & variance\n",
    "summ=0\n",
    "for i in data:\"variance\"+\n",
    "    summ = summ + ((i-mean)**2)\n",
    "var=summ/len(data)\n",
    "print(\"variance \",var)\n",
    "sd=var**0.5\n",
    "print(\"standard deviation \",sd)\n",
    "\n",
    "    "
   ]
  },
  {
   "cell_type": "code",
   "execution_count": 71,
   "metadata": {},
   "outputs": [
    {
     "name": "stdout",
     "output_type": "stream",
     "text": [
      "enter the new max1\n",
      "enter the new min0\n",
      "Normailzed value  [0.0, 0.14462416745956222, 0.18839200761179828, 0.1950523311132255, 0.23691722169362506, 0.24643196955280677, 0.2863939105613701, 0.3035204567078972, 0.3330161750713606, 1.0]\n"
     ]
    }
   ],
   "source": [
    "## min-max normalization\n",
    "mi=min(data)\n",
    "ma=max(data)\n",
    "newMax=float(input(\"enter the new max\"))\n",
    "newMin=float(input(\"enter the new min\"))\n",
    "x=[]\n",
    "for i in data:\n",
    "    x.append(((i-mi)/(ma-mi))*(newMax-newMin)+newMin)\n",
    "\n",
    "print(\"Normailzed value \",x)"
   ]
  },
  {
   "cell_type": "code",
   "execution_count": 72,
   "metadata": {},
   "outputs": [
    {
     "name": "stdout",
     "output_type": "stream",
     "text": [
      "standarized values  [-1.164169527898749, -0.5903894752378874, -0.41674551193262627, -0.39032143056008645, -0.22422720478983726, -0.18647851711478058, -0.027934028879542303, 0.04001360893555966, 0.15703454072823575, 2.8032175467497105]\n"
     ]
    }
   ],
   "source": [
    "## standardization\n",
    "y=[]\n",
    "for i in data:\n",
    "    y.append((i-mean)/sd)\n",
    "print(\"standarized values \" ,y)"
   ]
  }
 ],
 "metadata": {
  "kernelspec": {
   "display_name": "Python 3",
   "language": "python",
   "name": "python3"
  },
  "language_info": {
   "codemirror_mode": {
    "name": "ipython",
    "version": 3
   },
   "file_extension": ".py",
   "mimetype": "text/x-python",
   "name": "python",
   "nbconvert_exporter": "python",
   "pygments_lexer": "ipython3",
   "version": "3.8.5"
  }
 },
 "nbformat": 4,
 "nbformat_minor": 4
}
